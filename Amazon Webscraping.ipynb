{
 "cells": [
  {
   "cell_type": "code",
   "execution_count": 1,
   "id": "be9784f0",
   "metadata": {},
   "outputs": [],
   "source": [
    "import csv\n",
    "from bs4 import BeautifulSoup"
   ]
  },
  {
   "cell_type": "code",
   "execution_count": 20,
   "id": "cce3fd8b",
   "metadata": {},
   "outputs": [],
   "source": [
    "from selenium import webdriver\n"
   ]
  },
  {
   "cell_type": "code",
   "execution_count": 23,
   "id": "d1a243b6",
   "metadata": {
    "scrolled": true
   },
   "outputs": [
    {
     "name": "stderr",
     "output_type": "stream",
     "text": [
      "C:\\Users\\Vivek Pinto\\AppData\\Local\\Temp\\ipykernel_16136\\1156067254.py:1: DeprecationWarning: executable_path has been deprecated, please pass in a Service object\n",
      "  driver = webdriver.Chrome(executable_path = \"C:\\\\webdriver\\\\chromedriver.exe\")\n"
     ]
    }
   ],
   "source": [
    "driver = webdriver.Chrome(executable_path = \"C:\\\\webdriver\\\\chromedriver.exe\")"
   ]
  },
  {
   "cell_type": "code",
   "execution_count": 24,
   "id": "4e601b9d",
   "metadata": {},
   "outputs": [],
   "source": [
    "url = \"https://www.amazon.in\"\n",
    "driver.get(url)"
   ]
  },
  {
   "cell_type": "code",
   "execution_count": 27,
   "id": "7c77a1ee",
   "metadata": {},
   "outputs": [],
   "source": [
    "def get_url(search_term):\n",
    "    \"\"\"generate a url from search term\"\"\"\n",
    "    template = 'https://www.amazon.in/s?k={}&ref=nb_sb_noss'\n",
    "    search_term = search_term.replace(' ','+')\n",
    "    return template.format(search_term)\n"
   ]
  },
  {
   "cell_type": "code",
   "execution_count": 28,
   "id": "c83a76eb",
   "metadata": {},
   "outputs": [
    {
     "name": "stdout",
     "output_type": "stream",
     "text": [
      "https://www.amazon.in/s?k=ultrawide+monitor&ref=nb_sb_noss\n"
     ]
    }
   ],
   "source": [
    "url = get_url('ultrawide monitor')\n",
    "print(url)"
   ]
  },
  {
   "cell_type": "code",
   "execution_count": 29,
   "id": "76ef8351",
   "metadata": {},
   "outputs": [],
   "source": [
    "driver.get(url)"
   ]
  },
  {
   "cell_type": "markdown",
   "id": "5268500e",
   "metadata": {},
   "source": [
    "## Extract the collection"
   ]
  },
  {
   "cell_type": "code",
   "execution_count": 30,
   "id": "eff7156e",
   "metadata": {},
   "outputs": [],
   "source": [
    "soup =  BeautifulSoup(driver.page_source, 'html.parser')"
   ]
  },
  {
   "cell_type": "code",
   "execution_count": 31,
   "id": "dbf65d23",
   "metadata": {},
   "outputs": [],
   "source": [
    "results = soup.find_all('div', {'data-component-type' : 's-search-result'})"
   ]
  },
  {
   "cell_type": "code",
   "execution_count": 32,
   "id": "b458433d",
   "metadata": {},
   "outputs": [
    {
     "data": {
      "text/plain": [
       "22"
      ]
     },
     "execution_count": 32,
     "metadata": {},
     "output_type": "execute_result"
    }
   ],
   "source": [
    "len(results)"
   ]
  },
  {
   "cell_type": "markdown",
   "id": "2d12b7b9",
   "metadata": {},
   "source": [
    "## Prototype the record"
   ]
  },
  {
   "cell_type": "code",
   "execution_count": 33,
   "id": "b4529f82",
   "metadata": {},
   "outputs": [],
   "source": [
    "item = results[0]"
   ]
  },
  {
   "cell_type": "code",
   "execution_count": 34,
   "id": "8ca1ca27",
   "metadata": {},
   "outputs": [],
   "source": [
    "atag = item.h2.a"
   ]
  },
  {
   "cell_type": "code",
   "execution_count": 35,
   "id": "6beee214",
   "metadata": {},
   "outputs": [],
   "source": [
    "description = atag.text.strip()"
   ]
  },
  {
   "cell_type": "code",
   "execution_count": 36,
   "id": "6cca75a1",
   "metadata": {},
   "outputs": [],
   "source": [
    "url = 'https://www.amazon.in' + atag.get('href')"
   ]
  },
  {
   "cell_type": "code",
   "execution_count": 37,
   "id": "e89c5d73",
   "metadata": {},
   "outputs": [],
   "source": [
    "price_parent = item.find('span', 'a-price') "
   ]
  },
  {
   "cell_type": "code",
   "execution_count": 38,
   "id": "25f1aed4",
   "metadata": {},
   "outputs": [],
   "source": [
    "price = price_parent.find('span', 'a-offscreen').text"
   ]
  },
  {
   "cell_type": "code",
   "execution_count": 39,
   "id": "2ce1285b",
   "metadata": {},
   "outputs": [],
   "source": [
    "rating = item.i.text"
   ]
  },
  {
   "cell_type": "code",
   "execution_count": 44,
   "id": "9c0a1dc2",
   "metadata": {},
   "outputs": [],
   "source": [
    "review_count = item.find('span', {'class': 'a-size-base'}).text"
   ]
  },
  {
   "cell_type": "markdown",
   "id": "164e2666",
   "metadata": {},
   "source": [
    "## Generalize the pattern"
   ]
  },
  {
   "cell_type": "code",
   "execution_count": 45,
   "id": "2756531c",
   "metadata": {},
   "outputs": [],
   "source": [
    "def extract_record(item):\n",
    "    \"\"\"\"Extract and return data from a single record\"\"\"\n",
    "    #description and url\n",
    "    atag = item.h2.a\n",
    "    description = atag.text.strip()\n",
    "    url = 'https://www.amazon.in' + atag.get('href')\n",
    "    \n",
    "    #price\n",
    "    price_parent = item.find('span', 'a-price') \n",
    "    price = price_parent.find('span', 'a-offscreen').text\n",
    "    \n",
    "    #rank and rating\n",
    "    rating = item.i.text\n",
    "    review_count = item.find('span', {'class': 'a-size-base'}).text\n",
    "    \n",
    "    result = (description, price, rating, review_count, url)\n",
    "    \n",
    "    return result\n",
    "    \n",
    "    "
   ]
  },
  {
   "cell_type": "code",
   "execution_count": 46,
   "id": "c502ad7f",
   "metadata": {},
   "outputs": [
    {
     "ename": "AttributeError",
     "evalue": "'NoneType' object has no attribute 'text'",
     "output_type": "error",
     "traceback": [
      "\u001b[1;31m---------------------------------------------------------------------------\u001b[0m",
      "\u001b[1;31mAttributeError\u001b[0m                            Traceback (most recent call last)",
      "Input \u001b[1;32mIn [46]\u001b[0m, in \u001b[0;36m<module>\u001b[1;34m\u001b[0m\n\u001b[0;32m      2\u001b[0m results \u001b[38;5;241m=\u001b[39m soup\u001b[38;5;241m.\u001b[39mfind_all(\u001b[38;5;124m'\u001b[39m\u001b[38;5;124mdiv\u001b[39m\u001b[38;5;124m'\u001b[39m, {\u001b[38;5;124m'\u001b[39m\u001b[38;5;124mdata-component-type\u001b[39m\u001b[38;5;124m'\u001b[39m : \u001b[38;5;124m'\u001b[39m\u001b[38;5;124ms-search-result\u001b[39m\u001b[38;5;124m'\u001b[39m})\n\u001b[0;32m      4\u001b[0m \u001b[38;5;28;01mfor\u001b[39;00m item \u001b[38;5;129;01min\u001b[39;00m results:\n\u001b[1;32m----> 5\u001b[0m     records\u001b[38;5;241m.\u001b[39mappend(\u001b[43mextract_record\u001b[49m\u001b[43m(\u001b[49m\u001b[43mitem\u001b[49m\u001b[43m)\u001b[49m)\n",
      "Input \u001b[1;32mIn [45]\u001b[0m, in \u001b[0;36mextract_record\u001b[1;34m(item)\u001b[0m\n\u001b[0;32m     12\u001b[0m \u001b[38;5;66;03m#rank and rating\u001b[39;00m\n\u001b[0;32m     13\u001b[0m rating \u001b[38;5;241m=\u001b[39m item\u001b[38;5;241m.\u001b[39mi\u001b[38;5;241m.\u001b[39mtext\n\u001b[1;32m---> 14\u001b[0m review_count \u001b[38;5;241m=\u001b[39m \u001b[43mitem\u001b[49m\u001b[38;5;241;43m.\u001b[39;49m\u001b[43mfind\u001b[49m\u001b[43m(\u001b[49m\u001b[38;5;124;43m'\u001b[39;49m\u001b[38;5;124;43mspan\u001b[39;49m\u001b[38;5;124;43m'\u001b[39;49m\u001b[43m,\u001b[49m\u001b[43m \u001b[49m\u001b[43m{\u001b[49m\u001b[38;5;124;43m'\u001b[39;49m\u001b[38;5;124;43mclass\u001b[39;49m\u001b[38;5;124;43m'\u001b[39;49m\u001b[43m:\u001b[49m\u001b[43m \u001b[49m\u001b[38;5;124;43m'\u001b[39;49m\u001b[38;5;124;43ma-size-base\u001b[39;49m\u001b[38;5;124;43m'\u001b[39;49m\u001b[43m}\u001b[49m\u001b[43m)\u001b[49m\u001b[38;5;241;43m.\u001b[39;49m\u001b[43mtext\u001b[49m\n\u001b[0;32m     16\u001b[0m result \u001b[38;5;241m=\u001b[39m (description, price, rating, review_count, url)\n\u001b[0;32m     18\u001b[0m \u001b[38;5;28;01mreturn\u001b[39;00m result\n",
      "\u001b[1;31mAttributeError\u001b[0m: 'NoneType' object has no attribute 'text'"
     ]
    }
   ],
   "source": [
    "records = []\n",
    "results = soup.find_all('div', {'data-component-type' : 's-search-result'})\n",
    "\n",
    "for item in results:\n",
    "    records.append(extract_record(item))"
   ]
  },
  {
   "cell_type": "markdown",
   "id": "d542f6a1",
   "metadata": {},
   "source": [
    "## Error handling"
   ]
  },
  {
   "cell_type": "code",
   "execution_count": 47,
   "id": "651311e8",
   "metadata": {},
   "outputs": [],
   "source": [
    "def extract_record(item):\n",
    "    \"\"\"\"Extract and return data from a single record\"\"\"\n",
    "    #description and url\n",
    "    atag = item.h2.a\n",
    "    description = atag.text.strip()\n",
    "    url = 'https://www.amazon.in' + atag.get('href')\n",
    "    \n",
    "    try:\n",
    "        #price\n",
    "        price_parent = item.find('span', 'a-price') \n",
    "        price = price_parent.find('span', 'a-offscreen').text\n",
    "    except AttributeError:\n",
    "        return\n",
    "    \n",
    "    try: \n",
    "        #rank and rating\n",
    "        rating = item.i.text\n",
    "        review_count = item.find('span', {'class': 'a-size-base'}).text\n",
    "    except AttributeError:\n",
    "        rating = ''\n",
    "        review_count = ''\n",
    "        \n",
    "    result = (description, price, rating, review_count, url)\n",
    "    \n",
    "    return result"
   ]
  },
  {
   "cell_type": "code",
   "execution_count": 48,
   "id": "b9caeb65",
   "metadata": {},
   "outputs": [],
   "source": [
    "records = []\n",
    "results = soup.find_all('div', {'data-component-type' : 's-search-result'})\n",
    "\n",
    "for item in results:\n",
    "    record = extract_record(item)\n",
    "    if record:\n",
    "        records.append(record)"
   ]
  },
  {
   "cell_type": "code",
   "execution_count": 49,
   "id": "d2ce4a44",
   "metadata": {},
   "outputs": [
    {
     "data": {
      "text/plain": [
       "('Lenovo Q-Series 60.45 cm (24 inch) FHD IPS Ultraslim Monitor, 2x3W Speakers, 75Hz, AMD FreeSync, HDMI, Natural Low Blue Light, TUV Eyesafe® Vision Health Board Compliant, Lenovo Artery Control Q24i-1L',\n",
       " '₹14,489',\n",
       " '4.4 out of 5 stars',\n",
       " '1,236',\n",
       " 'https://www.amazon.in/gp/slredirect/picassoRedirect.html/ref=pa_sp_atf_aps_sr_pg1_1?ie=UTF8&adId=A01492841EWG1CDWC47CM&url=%2FLenovo-23-8-inch-Ultraslim-2xSpeakers-Q24i-1L%2Fdp%2FB095348ZMH%2Fref%3Dsr_1_1_sspa%3Fkeywords%3Dultrawide%2Bmonitor%26qid%3D1654676949%26sr%3D8-1-spons%26psc%3D1&qualifier=1654676949&id=2904229419326851&widgetName=sp_atf')"
      ]
     },
     "execution_count": 49,
     "metadata": {},
     "output_type": "execute_result"
    }
   ],
   "source": [
    "records[0]"
   ]
  },
  {
   "cell_type": "code",
   "execution_count": 50,
   "id": "00e22f85",
   "metadata": {},
   "outputs": [
    {
     "name": "stdout",
     "output_type": "stream",
     "text": [
      "₹14,489\n",
      "₹21,990\n",
      "₹17,499\n",
      "₹18,828\n",
      "₹19,999\n",
      "₹25,499\n",
      "₹41,953\n",
      "₹42,799\n",
      "₹69,999\n",
      "₹30,990\n",
      "₹21,800\n",
      "₹24,436\n",
      "₹42,999\n",
      "₹27,999\n",
      "₹15,489\n",
      "₹1,69,999\n",
      "₹48,999\n",
      "₹34,999\n",
      "₹76,990\n",
      "₹39,999\n",
      "₹31,999\n",
      "₹12,099\n"
     ]
    }
   ],
   "source": [
    "for row in records:\n",
    "    print(row[1])"
   ]
  },
  {
   "cell_type": "markdown",
   "id": "8c4a6bb0",
   "metadata": {},
   "source": [
    "## Getting the next page"
   ]
  },
  {
   "cell_type": "code",
   "execution_count": 51,
   "id": "3ecc99aa",
   "metadata": {},
   "outputs": [],
   "source": [
    "def get_url(search_term):\n",
    "    \"\"\"Generate a url from search term\"\"\"\n",
    "    template = 'https://www.amazon.in/s?k={}&ref=nb_sb_noss'\n",
    "    search_term = search_term.replace(' ','+')\n",
    "    \n",
    "    #add term query to url\n",
    "    url = template.format(search_term)\n",
    "    \n",
    "    #add page query placeholder\n",
    "    url += '&page{}'\n",
    "    \n",
    "    return url\n",
    "    "
   ]
  },
  {
   "cell_type": "markdown",
   "id": "3fc85c89",
   "metadata": {},
   "source": [
    "## Putting it all together"
   ]
  },
  {
   "cell_type": "code",
   "execution_count": 54,
   "id": "c87ddba2",
   "metadata": {},
   "outputs": [],
   "source": [
    "import csv\n",
    "from bs4 import BeautifulSoup\n",
    "from selenium import webdriver\n",
    "\n",
    "def get_url(search_term):\n",
    "    \"\"\"Generate a url from search term\"\"\"\n",
    "    template = 'https://www.amazon.in/s?k={}&ref=nb_sb_noss'\n",
    "    search_term = search_term.replace(' ','+')\n",
    "    \n",
    "    #add term query to url\n",
    "    url = template.format(search_term)\n",
    "    \n",
    "    #add page query placeholder\n",
    "    url += '&page{}'\n",
    "    \n",
    "    return url\n",
    "\n",
    "def extract_record(item):\n",
    "    \"\"\"\"Extract and return data from a single record\"\"\"\n",
    "    #description and url\n",
    "    atag = item.h2.a\n",
    "    description = atag.text.strip()\n",
    "    url = 'https://www.amazon.in' + atag.get('href')\n",
    "    \n",
    "    try:\n",
    "        #price\n",
    "        price_parent = item.find('span', 'a-price') \n",
    "        price = price_parent.find('span', 'a-offscreen').text\n",
    "    except AttributeError:\n",
    "        return\n",
    "    \n",
    "    try: \n",
    "        #rank and rating\n",
    "        rating = item.i.text\n",
    "        review_count = item.find('span', {'class': 'a-size-base'}).text\n",
    "    except AttributeError:\n",
    "        rating = ''\n",
    "        review_count = ''\n",
    "        \n",
    "    result = (description, price, rating, review_count, url)\n",
    "    \n",
    "    return result\n",
    "\n",
    "def main(search_term):\n",
    "    \"\"\"Run main program routine\"\"\"\n",
    "    #startup the webdriver\n",
    "    driver = webdriver.Chrome(executable_path = \"C:\\\\webdriver\\\\chromedriver.exe\")\n",
    "    \n",
    "    record = []\n",
    "    \n",
    "    url = get_url(search_term)\n",
    "    \n",
    "    for page in range(1, 21):\n",
    "        driver.get(url.format(page))\n",
    "        soup = BeautifulSoup(driver.page_source, 'html.parser')\n",
    "        results = soup.find_all('div', {'data-component-type' : 's-search-result'})\n",
    "        \n",
    "        for item in results: \n",
    "            record = extract_record(item)\n",
    "            if record:\n",
    "                records.append(record)\n",
    "                \n",
    "                \n",
    "                \n",
    "    driver.close()\n",
    "    \n",
    "    #save data to csv file\n",
    "    with open ('results.csv', 'w', newline='', encoding='utf-8') as f:\n",
    "        writer = csv.writer(f)\n",
    "        writer.writerow(['Description', 'Price', 'Rating', 'ReviewCount', 'Url'])\n",
    "        writer.writerows(records)\n",
    "    \n"
   ]
  },
  {
   "cell_type": "code",
   "execution_count": null,
   "id": "2a5c4680",
   "metadata": {},
   "outputs": [
    {
     "name": "stderr",
     "output_type": "stream",
     "text": [
      "C:\\Users\\Vivek Pinto\\AppData\\Local\\Temp\\ipykernel_16136\\381595495.py:47: DeprecationWarning: executable_path has been deprecated, please pass in a Service object\n",
      "  driver = webdriver.Chrome(executable_path = \"C:\\\\webdriver\\\\chromedriver.exe\")\n"
     ]
    }
   ],
   "source": [
    "main('ultrawide')"
   ]
  },
  {
   "cell_type": "code",
   "execution_count": null,
   "id": "96b5cb38",
   "metadata": {},
   "outputs": [],
   "source": []
  }
 ],
 "metadata": {
  "kernelspec": {
   "display_name": "Python 3 (ipykernel)",
   "language": "python",
   "name": "python3"
  },
  "language_info": {
   "codemirror_mode": {
    "name": "ipython",
    "version": 3
   },
   "file_extension": ".py",
   "mimetype": "text/x-python",
   "name": "python",
   "nbconvert_exporter": "python",
   "pygments_lexer": "ipython3",
   "version": "3.9.13"
  }
 },
 "nbformat": 4,
 "nbformat_minor": 5
}
